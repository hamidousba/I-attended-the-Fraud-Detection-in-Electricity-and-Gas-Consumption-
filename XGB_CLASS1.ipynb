{
 "cells": [
  {
   "cell_type": "code",
   "execution_count": 2,
   "metadata": {},
   "outputs": [],
   "source": [
    "import numpy as np\n",
    "import pandas as pd\n",
    "import datetime\n",
    "import gc\n",
    "import matplotlib.pyplot as plt\n",
    "import seaborn as sns\n",
    "\n",
    "from sklearn.model_selection import StratifiedKFold\n",
    "from sklearn.metrics import mean_squared_error\n",
    "import warnings\n",
    "warnings.filterwarnings('ignore')\n",
    "np.random.seed(4590)"
   ]
  },
  {
   "cell_type": "code",
   "execution_count": 3,
   "metadata": {},
   "outputs": [],
   "source": [
    "train_client=pd.read_csv('r:/train/client_train.csv')\n",
    "train_invoice=pd.read_csv('r:/train/invoice_train.csv')\n",
    "test_client=pd.read_csv('r:/train/client_test.csv')\n",
    "test_invoice=pd.read_csv('r:/train/invoice_test.csv')\n",
    "sub=pd.read_csv('r:/train/SampleSubmission.csv')"
   ]
  },
  {
   "cell_type": "code",
   "execution_count": 4,
   "metadata": {},
   "outputs": [],
   "source": [
    "for df in [train_invoice,test_invoice]:\n",
    "    df['invoice_date'] = pd.to_datetime(df['invoice_date'])\n",
    "    df['year'] = df['invoice_date'].dt.year\n",
    "    df['month'] = df['invoice_date'].dt.month"
   ]
  },
  {
   "cell_type": "code",
   "execution_count": 5,
   "metadata": {},
   "outputs": [],
   "source": [
    "for df in [train_client,test_client]:\n",
    "    df['creation_date'] = pd.to_datetime(df['creation_date'])\n",
    "    df['year'] = df['creation_date'].dt.year\n",
    "    df['month'] = df['creation_date'].dt.month"
   ]
  },
  {
   "cell_type": "code",
   "execution_count": 6,
   "metadata": {},
   "outputs": [],
   "source": [
    "d={\"ELEC\":0,\"GAZ\":1}\n",
    "train_invoice['counter_type']=train_invoice['counter_type'].map(d)\n",
    "d={\"ELEC\":0,\"GAZ\":1}\n",
    "test_invoice['counter_type']=test_invoice['counter_type'].map(d)"
   ]
  },
  {
   "cell_type": "code",
   "execution_count": 68,
   "metadata": {},
   "outputs": [],
   "source": [
    "aggs = {}\n",
    "aggs['consommation_level_1'] = ['sum','max','min','mean']\n",
    "aggs['consommation_level_2'] = ['sum','max','min','mean']\n",
    "aggs['consommation_level_3'] = ['sum','max','min','mean']\n",
    "aggs['consommation_level_4'] = ['sum','max','min','mean']\n",
    "\n",
    "aggs['month'] = ['mean', 'max', 'min']\n",
    "aggs['year'] = ['nunique','max','min','mean']\n",
    "\n",
    "aggs['months_number'] = ['max','min','mean','sum']\n",
    "aggs['reading_remarque'] = ['max','min','mean','sum']\n",
    "aggs['counter_coefficient'] = ['max', 'min','mean','sum']\n",
    "aggs['counter_number'] = ['nunique','max','min']\n",
    "aggs['counter_type'] = ['nunique','mean','sum']\n",
    "aggs['counter_statue'] = ['nunique','max','min','sum']\n",
    "aggs['tarif_type'] = ['nunique','max','min','sum']\n",
    "aggs['counter_code'] = ['nunique','max','mean','min']\n",
    "\n",
    "\n",
    "aggs['old_index'] = ['nunique','mean','max','min']\n",
    "aggs['new_index'] = ['nunique','mean','max','min']"
   ]
  },
  {
   "cell_type": "code",
   "execution_count": 69,
   "metadata": {},
   "outputs": [],
   "source": [
    "agg_train = train_invoice.groupby(['client_id']).agg(aggs)\n",
    "agg_test = test_invoice.groupby(['client_id']).agg(aggs)\n"
   ]
  },
  {
   "cell_type": "code",
   "execution_count": 70,
   "metadata": {},
   "outputs": [],
   "source": [
    "agg_train.columns = ['_'.join(col).strip() for col in agg_train.columns.values]\n",
    "agg_test.columns = ['_'.join(col).strip() for col in agg_test.columns.values]"
   ]
  },
  {
   "cell_type": "code",
   "execution_count": 71,
   "metadata": {},
   "outputs": [],
   "source": [
    "train = pd.merge(train_client,agg_train, on='client_id', how='left')\n",
    "test = pd.merge(test_client,agg_test, on='client_id', how='left')\n"
   ]
  },
  {
   "cell_type": "code",
   "execution_count": 72,
   "metadata": {},
   "outputs": [],
   "source": [
    "target=train['target']\n"
   ]
  },
  {
   "cell_type": "code",
   "execution_count": 73,
   "metadata": {},
   "outputs": [],
   "source": [
    "train = train.drop(['target','creation_date'], axis=1)\n"
   ]
  },
  {
   "cell_type": "code",
   "execution_count": 74,
   "metadata": {},
   "outputs": [],
   "source": [
    "test = test.drop(['creation_date'], axis=1)"
   ]
  },
  {
   "cell_type": "code",
   "execution_count": 78,
   "metadata": {},
   "outputs": [],
   "source": [
    "from sklearn import preprocessing\n",
    "for f in train.columns:\n",
    "    if train[f].dtype=='object' : \n",
    "        lbl = preprocessing.LabelEncoder()\n",
    "        lbl.fit(list(train[f].values))\n",
    "        train[f] = lbl.transform(list(train[f].values))"
   ]
  },
  {
   "cell_type": "code",
   "execution_count": 79,
   "metadata": {},
   "outputs": [],
   "source": [
    "from sklearn import preprocessing\n",
    "for f in test.columns:\n",
    "    if test[f].dtype=='object' : \n",
    "        lbl = preprocessing.LabelEncoder()\n",
    "        lbl.fit(list(test[f].values))\n",
    "        test[f] = lbl.transform(list(test[f].values))\n",
    "        "
   ]
  },
  {
   "cell_type": "markdown",
   "metadata": {},
   "source": [
    "# xgb classement 2\n"
   ]
  },
  {
   "cell_type": "code",
   "execution_count": 80,
   "metadata": {},
   "outputs": [
    {
     "name": "stdout",
     "output_type": "stream",
     "text": [
      "Wall time: 1min 47s\n"
     ]
    },
    {
     "data": {
      "text/plain": [
       "XGBClassifier(base_score=0.5, booster=None, colsample_bylevel=1,\n",
       "              colsample_bynode=1, colsample_bytree=0.9, gamma=0, gpu_id=-1,\n",
       "              importance_type='gain', interaction_constraints=None,\n",
       "              learning_rate=0.05, max_delta_step=0, max_depth=9,\n",
       "              min_child_weight=1, missing=nan, monotone_constraints=None,\n",
       "              n_estimators=300, n_jobs=0, num_parallel_tree=1,\n",
       "              objective='binary:logistic', random_state=2019, reg_alpha=0,\n",
       "              reg_lambda=1, scale_pos_weight=1, subsample=0.9, tree_method=None,\n",
       "              validate_parameters=False, verbosity=None)"
      ]
     },
     "execution_count": 80,
     "metadata": {},
     "output_type": "execute_result"
    }
   ],
   "source": [
    "import xgboost as xgb\n",
    "from datetime import datetime\n",
    "from sklearn.model_selection import RandomizedSearchCV, GridSearchCV\n",
    "from sklearn.metrics import roc_auc_score\n",
    "from sklearn.model_selection import StratifiedKFold\n",
    "clf = xgb.XGBClassifier(\n",
    "    n_estimators=300,\n",
    "    max_depth=9,\n",
    "    learning_rate=0.05,\n",
    "    subsample=0.9,\n",
    "    colsample_bytree=0.9,\n",
    "    random_state=2019,\n",
    ")\n",
    "%time clf.fit(train, target)"
   ]
  },
  {
   "cell_type": "code",
   "execution_count": 24,
   "metadata": {},
   "outputs": [],
   "source": [
    "from sklearn.model_selection import train_test_split\n",
    "X_train, X_test, y_train, y_test = train_test_split(train, target, test_size=0.3)"
   ]
  },
  {
   "cell_type": "code",
   "execution_count": 29,
   "metadata": {},
   "outputs": [
    {
     "data": {
      "text/plain": [
       "XGBClassifier(base_score=0.5, booster=None, colsample_bylevel=1,\n",
       "              colsample_bynode=1, colsample_bytree=0.9, gamma=0, gpu_id=-1,\n",
       "              importance_type='gain', interaction_constraints=None,\n",
       "              learning_rate=0.05, max_delta_step=0, max_depth=9,\n",
       "              min_child_weight=1, missing=nan, monotone_constraints=None,\n",
       "              n_estimators=500, n_jobs=0, num_parallel_tree=1,\n",
       "              objective='binary:logistic', random_state=2019, reg_alpha=0,\n",
       "              reg_lambda=1, scale_pos_weight=1, subsample=0.9, tree_method=None,\n",
       "              validate_parameters=False, verbosity=None)"
      ]
     },
     "execution_count": 29,
     "metadata": {},
     "output_type": "execute_result"
    }
   ],
   "source": [
    "clf.fit(X_train, y_train)"
   ]
  },
  {
   "cell_type": "code",
   "execution_count": 81,
   "metadata": {},
   "outputs": [
    {
     "name": "stdout",
     "output_type": "stream",
     "text": [
      "[[0.97968215 0.02031787]\n",
      " [0.7505926  0.24940738]\n",
      " [0.9851574  0.01484265]\n",
      " ...\n",
      " [0.2080071  0.7919929 ]\n",
      " [0.9969078  0.00309224]\n",
      " [0.9261943  0.0738057 ]]\n"
     ]
    }
   ],
   "source": [
    "y_pred = clf.predict_proba(test) \n",
    "print(y_pred)"
   ]
  },
  {
   "cell_type": "code",
   "execution_count": 31,
   "metadata": {},
   "outputs": [
    {
     "name": "stdout",
     "output_type": "stream",
     "text": [
      "0.947156071639441\n"
     ]
    }
   ],
   "source": [
    "from sklearn.metrics import accuracy_score\n",
    "# Evaluate accuracy\n",
    "print(accuracy_score(y_test, y_pred))"
   ]
  },
  {
   "cell_type": "code",
   "execution_count": 82,
   "metadata": {},
   "outputs": [
    {
     "name": "stdout",
     "output_type": "stream",
     "text": [
      "              0         1\n",
      "0      0.979682  0.020318\n",
      "1      0.750593  0.249407\n",
      "2      0.985157  0.014843\n",
      "3      0.996289  0.003711\n",
      "4      0.961391  0.038609\n",
      "...         ...       ...\n",
      "58064  0.999268  0.000732\n",
      "58065  0.990326  0.009674\n",
      "58066  0.208007  0.791993\n",
      "58067  0.996908  0.003092\n",
      "58068  0.926194  0.073806\n",
      "\n",
      "[58069 rows x 2 columns]\n"
     ]
    }
   ],
   "source": [
    "pred = pd.DataFrame(y_pred)\n",
    "print(pred)"
   ]
  },
  {
   "cell_type": "code",
   "execution_count": 83,
   "metadata": {},
   "outputs": [],
   "source": [
    "submission = pd.DataFrame({\n",
    "        \"client_id\": sub[\"client_id\"],\n",
    "        \"target\": pred[1]\n",
    "    })\n",
    "submission.to_csv('r:steg67.csv', index=False)"
   ]
  },
  {
   "cell_type": "code",
   "execution_count": null,
   "metadata": {},
   "outputs": [],
   "source": []
  }
 ],
 "metadata": {
  "kernelspec": {
   "display_name": "Python 3",
   "language": "python",
   "name": "python3"
  },
  "language_info": {
   "codemirror_mode": {
    "name": "ipython",
    "version": 3
   },
   "file_extension": ".py",
   "mimetype": "text/x-python",
   "name": "python",
   "nbconvert_exporter": "python",
   "pygments_lexer": "ipython3",
   "version": "3.7.4"
  }
 },
 "nbformat": 4,
 "nbformat_minor": 4
}
